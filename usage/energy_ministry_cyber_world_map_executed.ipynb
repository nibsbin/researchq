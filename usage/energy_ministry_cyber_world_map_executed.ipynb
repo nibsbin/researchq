{
 "cells": [
  {
   "cell_type": "markdown",
   "id": "1a2b3c4d",
   "metadata": {},
   "source": [
    "# Energy Ministry Cybersecurity Prioritization World Map\n",
    "\n",
    "This notebook creates an interactive world map visualization showing how much each country's energy ministry prioritizes cybersecurity, based on the assessment data from `energy_ministry_cyber_full_assessment.csv`.\n",
    "\n",
    "## Color Coding:\n",
    "- **Dark Red**: High cybersecurity prioritization\n",
    "- **Orange**: Medium cybersecurity prioritization  \n",
    "- **Light Yellow**: Low cybersecurity prioritization\n",
    "- **Light Gray**: No cybersecurity prioritization\n",
    "- **White**: No data available"
   ]
  },
  {
   "cell_type": "code",
   "execution_count": 1,
   "id": "setup",
   "metadata": {
    "execution": {
     "iopub.execute_input": "2025-09-17T21:38:11.323234Z",
     "iopub.status.busy": "2025-09-17T21:38:11.323066Z",
     "iopub.status.idle": "2025-09-17T21:38:12.804642Z",
     "shell.execute_reply": "2025-09-17T21:38:12.804092Z"
    }
   },
   "outputs": [
    {
     "data": {
      "text/html": [
       "        <script type=\"text/javascript\">\n",
       "        window.PlotlyConfig = {MathJaxConfig: 'local'};\n",
       "        if (window.MathJax && window.MathJax.Hub && window.MathJax.Hub.Config) {window.MathJax.Hub.Config({SVG: {font: \"STIX-Web\"}});}\n",
       "        </script>\n",
       "        <script type=\"module\">import \"https://cdn.plot.ly/plotly-3.1.0.min\"</script>\n",
       "        "
      ]
     },
     "metadata": {},
     "output_type": "display_data"
    },
    {
     "name": "stdout",
     "output_type": "stream",
     "text": [
      "Libraries imported successfully!\n"
     ]
    }
   ],
   "source": [
    "# Import required libraries\n",
    "import pandas as pd\n",
    "import plotly.express as px\n",
    "import plotly.graph_objects as go\n",
    "from plotly.offline import init_notebook_mode\n",
    "import json\n",
    "\n",
    "# Initialize plotly for Jupyter\n",
    "init_notebook_mode(connected=True)\n",
    "\n",
    "print(\"Libraries imported successfully!\")"
   ]
  },
  {
   "cell_type": "code",
   "execution_count": 2,
   "id": "load_data",
   "metadata": {
    "execution": {
     "iopub.execute_input": "2025-09-17T21:38:12.806515Z",
     "iopub.status.busy": "2025-09-17T21:38:12.806292Z",
     "iopub.status.idle": "2025-09-17T21:38:12.831972Z",
     "shell.execute_reply": "2025-09-17T21:38:12.831493Z"
    }
   },
   "outputs": [
    {
     "name": "stdout",
     "output_type": "stream",
     "text": [
      "Loaded data for 193 countries\n",
      "\n",
      "Cybersecurity prioritization distribution:\n",
      "relevance_level\n",
      "low       89\n",
      "medium    72\n",
      "high      26\n",
      "none       6\n",
      "Name: count, dtype: int64\n",
      "\n",
      "Sample data:\n",
      "               country relevance_level confidence\n",
      "0          Afghanistan          medium     medium\n",
      "1              Albania             low     medium\n",
      "2              Algeria          medium     medium\n",
      "3              Andorra            none     medium\n",
      "4               Angola          medium       high\n",
      "5  Antigua and Barbuda          medium       high\n",
      "6            Argentina          medium       high\n",
      "7              Armenia          medium       high\n",
      "8            Australia            high       high\n",
      "9              Austria          medium       high\n"
     ]
    }
   ],
   "source": [
    "# Load the energy ministry cybersecurity assessment data\n",
    "df = pd.read_csv('output/energy_ministry_cyber_full_assessment.csv')\n",
    "\n",
    "print(f\"Loaded data for {len(df)} countries\")\n",
    "print(\"\\nCybersecurity prioritization distribution:\")\n",
    "print(df['relevance_level'].value_counts())\n",
    "\n",
    "# Display sample data\n",
    "print(\"\\nSample data:\")\n",
    "print(df[['country', 'relevance_level', 'confidence']].head(10))"
   ]
  },
  {
   "cell_type": "code",
   "execution_count": 3,
   "id": "prepare_data",
   "metadata": {
    "execution": {
     "iopub.execute_input": "2025-09-17T21:38:12.833620Z",
     "iopub.status.busy": "2025-09-17T21:38:12.833471Z",
     "iopub.status.idle": "2025-09-17T21:38:12.843269Z",
     "shell.execute_reply": "2025-09-17T21:38:12.842764Z"
    }
   },
   "outputs": [
    {
     "name": "stdout",
     "output_type": "stream",
     "text": [
      "Data preparation completed!\n",
      "Countries with high prioritization: 26\n",
      "Countries with medium prioritization: 72\n",
      "Countries with low prioritization: 89\n",
      "Countries with no prioritization: 6\n"
     ]
    }
   ],
   "source": [
    "# Create color mapping for cybersecurity prioritization levels\n",
    "color_map = {\n",
    "    'high': '#8B0000',      # Dark Red\n",
    "    'medium': '#FF8C00',    # Orange  \n",
    "    'low': '#FFD700',       # Gold/Light Yellow\n",
    "    'none': '#D3D3D3'       # Light Gray\n",
    "}\n",
    "\n",
    "# Add color column to dataframe\n",
    "df['color'] = df['relevance_level'].map(color_map)\n",
    "\n",
    "# Add numeric values for plotly choropleth\n",
    "relevance_to_numeric = {\n",
    "    'none': 0,\n",
    "    'low': 1, \n",
    "    'medium': 2,\n",
    "    'high': 3\n",
    "}\n",
    "df['relevance_numeric'] = df['relevance_level'].map(relevance_to_numeric)\n",
    "\n",
    "# Create hover text with detailed information\n",
    "df['hover_text'] = df.apply(lambda row: \n",
    "    f\"<b>{row['country']}</b><br>\" +\n",
    "    f\"Cybersecurity Priority: {row['relevance_level'].title()}<br>\" +\n",
    "    f\"Assessment Confidence: {row['confidence'].title()}<br>\" +\n",
    "    f\"Energy Ministry Involvement: {row['relevance_level'].title()}\", axis=1)\n",
    "\n",
    "print(\"Data preparation completed!\")\n",
    "print(f\"Countries with high prioritization: {len(df[df['relevance_level'] == 'high'])}\")\n",
    "print(f\"Countries with medium prioritization: {len(df[df['relevance_level'] == 'medium'])}\")\n",
    "print(f\"Countries with low prioritization: {len(df[df['relevance_level'] == 'low'])}\")\n",
    "print(f\"Countries with no prioritization: {len(df[df['relevance_level'] == 'none'])}\")"
   ]
  },
  {
   "cell_type": "code",
   "execution_count": 4,
   "id": "country_mapping",
   "metadata": {
    "execution": {
     "iopub.execute_input": "2025-09-17T21:38:12.844753Z",
     "iopub.status.busy": "2025-09-17T21:38:12.844594Z",
     "iopub.status.idle": "2025-09-17T21:38:12.850077Z",
     "shell.execute_reply": "2025-09-17T21:38:12.849576Z"
    }
   },
   "outputs": [
    {
     "name": "stdout",
     "output_type": "stream",
     "text": [
      "Country name mapping applied!\n",
      "Sample mapped countries: ['Afghanistan', 'Albania', 'Algeria', 'Andorra', 'Angola']\n"
     ]
    }
   ],
   "source": [
    "# Handle country name mapping for plotly compatibility\n",
    "# Some countries in our data might have different names than expected by plotly\n",
    "country_name_mapping = {\n",
    "    'United States of America': 'United States',\n",
    "    'United Kingdom of Great Britain and Northern Ireland': 'United Kingdom',\n",
    "    'Russian Federation': 'Russia',\n",
    "    'Iran, Islamic Republic of': 'Iran',\n",
    "    'Venezuela, Bolivarian Republic of': 'Venezuela',\n",
    "    'Bolivia, Plurinational State of': 'Bolivia',\n",
    "    'Tanzania, United Republic of': 'Tanzania',\n",
    "    'Syria, Arab Republic': 'Syria',\n",
    "    'Moldova, Republic of': 'Moldova',\n",
    "    'Korea, Democratic People\\'s Republic of': 'North Korea',\n",
    "    'Korea, Republic of': 'South Korea',\n",
    "    'Congo, Democratic Republic of the': 'Democratic Republic of the Congo',\n",
    "    'Congo': 'Republic of the Congo',\n",
    "    'Lao People\\'s Democratic Republic': 'Laos',\n",
    "    'Macedonia, the former Yugoslav Republic of': 'North Macedonia',\n",
    "    'Micronesia, Federated States of': 'Micronesia'\n",
    "}\n",
    "\n",
    "# Apply country name mapping\n",
    "df['country_mapped'] = df['country'].replace(country_name_mapping)\n",
    "\n",
    "print(\"Country name mapping applied!\")\n",
    "print(f\"Sample mapped countries: {df['country_mapped'].head().tolist()}\")"
   ]
  },
  {
   "cell_type": "code",
   "execution_count": 5,
   "id": "create_map",
   "metadata": {
    "execution": {
     "iopub.execute_input": "2025-09-17T21:38:12.851663Z",
     "iopub.status.busy": "2025-09-17T21:38:12.851518Z",
     "iopub.status.idle": "2025-09-17T21:38:12.990541Z",
     "shell.execute_reply": "2025-09-17T21:38:12.989958Z"
    }
   },
   "outputs": [
    {
     "name": "stderr",
     "output_type": "stream",
     "text": [
      "/tmp/ipykernel_3705/1375676172.py:2: DeprecationWarning:\n",
      "\n",
      "The library used by the *country names* `locationmode` option is changing in an upcoming version. Country names in existing plots may not work in the new version. To ensure consistent behavior, consider setting `locationmode` to *ISO-3*.\n",
      "\n"
     ]
    },
    {
     "data": {
      "application/vnd.plotly.v1+json": {
       "config": {
        "plotlyServerURL": "https://plot.ly"
       },
       "data": [
        {
         "coloraxis": "coloraxis",
         "customdata": [
          [
           "Afghanistan",
           "medium",
           "medium"
          ],
          [
           "Albania",
           "low",
           "medium"
          ],
          [
           "Algeria",
           "medium",
           "medium"
          ],
          [
           "Andorra",
           "none",
           "medium"
          ],
          [
           "Angola",
           "medium",
           "high"
          ],
          [
           "Antigua and Barbuda",
           "medium",
           "high"
          ],
          [
           "Argentina",
           "medium",
           "high"
          ],
          [
           "Armenia",
           "medium",
           "high"
          ],
          [
           "Australia",
           "high",
           "high"
          ],
          [
           "Austria",
           "medium",
           "high"
          ],
          [
           "Azerbaijan",
           "medium",
           "medium"
          ],
          [
           "Bahamas (The)",
           "low",
           "medium"
          ],
          [
           "Bahrain",
           "medium",
           "high"
          ],
          [
           "Bangladesh",
           "medium",
           "medium"
          ],
          [
           "Barbados",
           "low",
           "medium"
          ],
          [
           "Belarus",
           "medium",
           "medium"
          ],
          [
           "Belgium",
           "high",
           "high"
          ],
          [
           "Belize",
           "low",
           "high"
          ],
          [
           "Benin",
           "medium",
           "medium"
          ],
          [
           "Bhutan",
           "medium",
           "high"
          ],
          [
           "Bolivia (Plurinational State of)",
           "low",
           "medium"
          ],
          [
           "Bosnia and Herzegovina",
           "low",
           "high"
          ],
          [
           "Botswana",
           "low",
           "high"
          ],
          [
           "Brazil",
           "high",
           "high"
          ],
          [
           "Brunei Darussalam",
           "medium",
           "medium"
          ],
          [
           "Bulgaria",
           "high",
           "high"
          ],
          [
           "Burkina Faso",
           "none",
           "medium"
          ],
          [
           "Burundi",
           "low",
           "high"
          ],
          [
           "Cabo Verde",
           "low",
           "medium"
          ],
          [
           "Cambodia",
           "medium",
           "high"
          ],
          [
           "Cameroon",
           "low",
           "high"
          ],
          [
           "Canada",
           "high",
           "high"
          ],
          [
           "Central African Republic",
           "low",
           "high"
          ],
          [
           "Chad",
           "low",
           "medium"
          ],
          [
           "Chile",
           "high",
           "high"
          ],
          [
           "China",
           "medium",
           "medium"
          ],
          [
           "Colombia",
           "low",
           "high"
          ],
          [
           "Comoros",
           "low",
           "high"
          ],
          [
           "Congo",
           "low",
           "medium"
          ],
          [
           "Costa Rica",
           "medium",
           "high"
          ],
          [
           "Côte d’Ivoire",
           "low",
           "high"
          ],
          [
           "Croatia",
           "medium",
           "high"
          ],
          [
           "Cuba",
           "medium",
           "medium"
          ],
          [
           "Cyprus",
           "low",
           "medium"
          ],
          [
           "Czechia",
           "high",
           "high"
          ],
          [
           "Democratic People's Republic of Korea",
           "low",
           "medium"
          ],
          [
           "Democratic Republic of the Congo",
           "low",
           "medium"
          ],
          [
           "Denmark",
           "high",
           "high"
          ],
          [
           "Djibouti",
           "low",
           "medium"
          ],
          [
           "Dominica",
           "low",
           "medium"
          ],
          [
           "Dominican Republic",
           "low",
           "high"
          ],
          [
           "Ecuador",
           "medium",
           "medium"
          ],
          [
           "Egypt",
           "medium",
           "high"
          ],
          [
           "El Salvador",
           "low",
           "medium"
          ],
          [
           "Equatorial Guinea",
           "low",
           "high"
          ],
          [
           "Eritrea",
           "low",
           "medium"
          ],
          [
           "Estonia",
           "medium",
           "high"
          ],
          [
           "Eswatini",
           "medium",
           "high"
          ],
          [
           "Ethiopia",
           "low",
           "high"
          ],
          [
           "Fiji",
           "none",
           "high"
          ],
          [
           "Finland",
           "medium",
           "high"
          ],
          [
           "France",
           "medium",
           "high"
          ],
          [
           "Gabon",
           "low",
           "medium"
          ],
          [
           "Gambia (Republic of The)",
           "low",
           "medium"
          ],
          [
           "Georgia",
           "medium",
           "medium"
          ],
          [
           "Germany",
           "medium",
           "high"
          ],
          [
           "Ghana",
           "low",
           "medium"
          ],
          [
           "Greece",
           "medium",
           "high"
          ],
          [
           "Grenada",
           "low",
           "high"
          ],
          [
           "Guatemala",
           "low",
           "high"
          ],
          [
           "Guinea",
           "low",
           "low"
          ],
          [
           "Guinea-Bissau",
           "none",
           "high"
          ],
          [
           "Guyana",
           "medium",
           "medium"
          ],
          [
           "Haiti",
           "low",
           "medium"
          ],
          [
           "Honduras",
           "low",
           "medium"
          ],
          [
           "Hungary",
           "medium",
           "medium"
          ],
          [
           "Iceland",
           "medium",
           "medium"
          ],
          [
           "India",
           "high",
           "high"
          ],
          [
           "Indonesia",
           "high",
           "high"
          ],
          [
           "Iran (Islamic Republic of)",
           "medium",
           "high"
          ],
          [
           "Iraq",
           "low",
           "high"
          ],
          [
           "Ireland",
           "high",
           "high"
          ],
          [
           "Israel",
           "medium",
           "high"
          ],
          [
           "Italy",
           "medium",
           "high"
          ],
          [
           "Jamaica",
           "medium",
           "high"
          ],
          [
           "Japan",
           "medium",
           "high"
          ],
          [
           "Jordan",
           "medium",
           "high"
          ],
          [
           "Kazakhstan",
           "high",
           "high"
          ],
          [
           "Kenya",
           "medium",
           "high"
          ],
          [
           "Kiribati",
           "low",
           "high"
          ],
          [
           "Kuwait",
           "medium",
           "high"
          ],
          [
           "Kyrgyzstan",
           "medium",
           "high"
          ],
          [
           "Lao People's Democratic Republic",
           "low",
           "medium"
          ],
          [
           "Latvia",
           "medium",
           "high"
          ],
          [
           "Lebanon",
           "medium",
           "medium"
          ],
          [
           "Lesotho",
           "low",
           "medium"
          ],
          [
           "Liberia",
           "low",
           "high"
          ],
          [
           "Libya",
           "low",
           "medium"
          ],
          [
           "Liechtenstein",
           "low",
           "high"
          ],
          [
           "Lithuania",
           "medium",
           "high"
          ],
          [
           "Luxembourg",
           "medium",
           "medium"
          ],
          [
           "Madagascar",
           "low",
           "medium"
          ],
          [
           "Malawi",
           "low",
           "high"
          ],
          [
           "Malaysia",
           "medium",
           "high"
          ],
          [
           "Maldives",
           "low",
           "high"
          ],
          [
           "Mali",
           "low",
           "medium"
          ],
          [
           "Malta",
           "low",
           "high"
          ],
          [
           "Marshall Islands",
           "low",
           "medium"
          ],
          [
           "Mauritania",
           "medium",
           "medium"
          ],
          [
           "Mauritius",
           "low",
           "high"
          ],
          [
           "Mexico",
           "medium",
           "medium"
          ],
          [
           "Micronesia (Federated States of)",
           "low",
           "low"
          ],
          [
           "Monaco",
           "low",
           "high"
          ],
          [
           "Mongolia",
           "high",
           "high"
          ],
          [
           "Montenegro",
           "medium",
           "medium"
          ],
          [
           "Morocco",
           "high",
           "medium"
          ],
          [
           "Mozambique",
           "low",
           "high"
          ],
          [
           "Myanmar",
           "medium",
           "high"
          ],
          [
           "Namibia",
           "low",
           "high"
          ],
          [
           "Nauru",
           "none",
           "high"
          ],
          [
           "Nepal",
           "low",
           "high"
          ],
          [
           "Netherlands (Kingdom of the)",
           "medium",
           "high"
          ],
          [
           "New Zealand",
           "medium",
           "high"
          ],
          [
           "Nicaragua",
           "low",
           "medium"
          ],
          [
           "Niger",
           "medium",
           "medium"
          ],
          [
           "Nigeria",
           "medium",
           "high"
          ],
          [
           "North Macedonia",
           "low",
           "medium"
          ],
          [
           "Norway",
           "medium",
           "high"
          ],
          [
           "Oman",
           "medium",
           "medium"
          ],
          [
           "Pakistan",
           "medium",
           "high"
          ],
          [
           "Palau",
           "low",
           "medium"
          ],
          [
           "Panama",
           "low",
           "high"
          ],
          [
           "Papua New Guinea",
           "low",
           "low"
          ],
          [
           "Paraguay",
           "low",
           "high"
          ],
          [
           "Peru",
           "medium",
           "medium"
          ],
          [
           "Philippines",
           "high",
           "high"
          ],
          [
           "Poland",
           "high",
           "high"
          ],
          [
           "Portugal",
           "medium",
           "high"
          ],
          [
           "Qatar",
           "medium",
           "high"
          ],
          [
           "Republic of Korea",
           "medium",
           "high"
          ],
          [
           "Republic of Moldova",
           "medium",
           "high"
          ],
          [
           "Romania",
           "high",
           "high"
          ],
          [
           "Russian Federation",
           "high",
           "high"
          ],
          [
           "Rwanda",
           "low",
           "high"
          ],
          [
           "Saint Kitts and Nevis",
           "low",
           "high"
          ],
          [
           "Saint Lucia",
           "low",
           "high"
          ],
          [
           "Saint Vincent and the Grenadines",
           "low",
           "medium"
          ],
          [
           "Samoa",
           "low",
           "medium"
          ],
          [
           "San Marino",
           "low",
           "medium"
          ],
          [
           "Sao Tome and Principe",
           "low",
           "medium"
          ],
          [
           "Saudi Arabia",
           "high",
           "high"
          ],
          [
           "Senegal",
           "low",
           "high"
          ],
          [
           "Serbia",
           "medium",
           "high"
          ],
          [
           "Seychelles",
           "low",
           "high"
          ],
          [
           "Sierra Leone",
           "low",
           "high"
          ],
          [
           "Singapore",
           "medium",
           "high"
          ],
          [
           "Slovakia",
           "medium",
           "high"
          ],
          [
           "Slovenia",
           "high",
           "high"
          ],
          [
           "Solomon Islands",
           "low",
           "medium"
          ],
          [
           "Somalia",
           "low",
           "high"
          ],
          [
           "South Africa",
           "medium",
           "medium"
          ],
          [
           "South Sudan",
           "low",
           "high"
          ],
          [
           "Spain",
           "high",
           "high"
          ],
          [
           "Sri Lanka",
           "low",
           "medium"
          ],
          [
           "Sudan",
           "low",
           "medium"
          ],
          [
           "Suriname",
           "low",
           "medium"
          ],
          [
           "Sweden",
           "medium",
           "high"
          ],
          [
           "Switzerland",
           "high",
           "high"
          ],
          [
           "Syrian Arab Republic",
           "low",
           "medium"
          ],
          [
           "Tajikistan",
           "medium",
           "medium"
          ],
          [
           "Thailand",
           "high",
           "high"
          ],
          [
           "Timor-Leste",
           "low",
           "medium"
          ],
          [
           "Togo",
           "low",
           "high"
          ],
          [
           "Tonga",
           "low",
           "high"
          ],
          [
           "Trinidad and Tobago",
           "low",
           "high"
          ],
          [
           "Tunisia",
           "low",
           "high"
          ],
          [
           "Turkey",
           "medium",
           "high"
          ],
          [
           "Turkmenistan",
           "none",
           "high"
          ],
          [
           "Tuvalu",
           "low",
           "high"
          ],
          [
           "Uganda",
           "medium",
           "high"
          ],
          [
           "Ukraine",
           "high",
           "high"
          ],
          [
           "United Arab Emirates",
           "medium",
           "high"
          ],
          [
           "United Kingdom",
           "high",
           "high"
          ],
          [
           "United Republic of Tanzania",
           "low",
           "high"
          ],
          [
           "United States of America",
           "high",
           "high"
          ],
          [
           "Uruguay",
           "medium",
           "high"
          ],
          [
           "Uzbekistan",
           "low",
           "medium"
          ],
          [
           "Vanuatu",
           "low",
           "high"
          ],
          [
           "Venezuela, Bolivarian Republic of",
           "low",
           "medium"
          ],
          [
           "Vietnam",
           "low",
           "high"
          ],
          [
           "Yemen",
           "low",
           "medium"
          ],
          [
           "Zambia",
           "medium",
           "medium"
          ],
          [
           "Zimbabwe",
           "low",
           "medium"
          ]
         ],
         "geo": "geo",
         "hovertemplate": "<b>%{customdata[0]}</b><br>Cybersecurity Priority: %{customdata[1]}<br>Assessment Confidence: %{customdata[2]}<br><extra></extra>",
         "locationmode": "country names",
         "locations": [
          "Afghanistan",
          "Albania",
          "Algeria",
          "Andorra",
          "Angola",
          "Antigua and Barbuda",
          "Argentina",
          "Armenia",
          "Australia",
          "Austria",
          "Azerbaijan",
          "Bahamas (The)",
          "Bahrain",
          "Bangladesh",
          "Barbados",
          "Belarus",
          "Belgium",
          "Belize",
          "Benin",
          "Bhutan",
          "Bolivia (Plurinational State of)",
          "Bosnia and Herzegovina",
          "Botswana",
          "Brazil",
          "Brunei Darussalam",
          "Bulgaria",
          "Burkina Faso",
          "Burundi",
          "Cabo Verde",
          "Cambodia",
          "Cameroon",
          "Canada",
          "Central African Republic",
          "Chad",
          "Chile",
          "China",
          "Colombia",
          "Comoros",
          "Republic of the Congo",
          "Costa Rica",
          "Côte d’Ivoire",
          "Croatia",
          "Cuba",
          "Cyprus",
          "Czechia",
          "Democratic People's Republic of Korea",
          "Democratic Republic of the Congo",
          "Denmark",
          "Djibouti",
          "Dominica",
          "Dominican Republic",
          "Ecuador",
          "Egypt",
          "El Salvador",
          "Equatorial Guinea",
          "Eritrea",
          "Estonia",
          "Eswatini",
          "Ethiopia",
          "Fiji",
          "Finland",
          "France",
          "Gabon",
          "Gambia (Republic of The)",
          "Georgia",
          "Germany",
          "Ghana",
          "Greece",
          "Grenada",
          "Guatemala",
          "Guinea",
          "Guinea-Bissau",
          "Guyana",
          "Haiti",
          "Honduras",
          "Hungary",
          "Iceland",
          "India",
          "Indonesia",
          "Iran (Islamic Republic of)",
          "Iraq",
          "Ireland",
          "Israel",
          "Italy",
          "Jamaica",
          "Japan",
          "Jordan",
          "Kazakhstan",
          "Kenya",
          "Kiribati",
          "Kuwait",
          "Kyrgyzstan",
          "Laos",
          "Latvia",
          "Lebanon",
          "Lesotho",
          "Liberia",
          "Libya",
          "Liechtenstein",
          "Lithuania",
          "Luxembourg",
          "Madagascar",
          "Malawi",
          "Malaysia",
          "Maldives",
          "Mali",
          "Malta",
          "Marshall Islands",
          "Mauritania",
          "Mauritius",
          "Mexico",
          "Micronesia (Federated States of)",
          "Monaco",
          "Mongolia",
          "Montenegro",
          "Morocco",
          "Mozambique",
          "Myanmar",
          "Namibia",
          "Nauru",
          "Nepal",
          "Netherlands (Kingdom of the)",
          "New Zealand",
          "Nicaragua",
          "Niger",
          "Nigeria",
          "North Macedonia",
          "Norway",
          "Oman",
          "Pakistan",
          "Palau",
          "Panama",
          "Papua New Guinea",
          "Paraguay",
          "Peru",
          "Philippines",
          "Poland",
          "Portugal",
          "Qatar",
          "Republic of Korea",
          "Republic of Moldova",
          "Romania",
          "Russia",
          "Rwanda",
          "Saint Kitts and Nevis",
          "Saint Lucia",
          "Saint Vincent and the Grenadines",
          "Samoa",
          "San Marino",
          "Sao Tome and Principe",
          "Saudi Arabia",
          "Senegal",
          "Serbia",
          "Seychelles",
          "Sierra Leone",
          "Singapore",
          "Slovakia",
          "Slovenia",
          "Solomon Islands",
          "Somalia",
          "South Africa",
          "South Sudan",
          "Spain",
          "Sri Lanka",
          "Sudan",
          "Suriname",
          "Sweden",
          "Switzerland",
          "Syrian Arab Republic",
          "Tajikistan",
          "Thailand",
          "Timor-Leste",
          "Togo",
          "Tonga",
          "Trinidad and Tobago",
          "Tunisia",
          "Turkey",
          "Turkmenistan",
          "Tuvalu",
          "Uganda",
          "Ukraine",
          "United Arab Emirates",
          "United Kingdom",
          "United Republic of Tanzania",
          "United States",
          "Uruguay",
          "Uzbekistan",
          "Vanuatu",
          "Venezuela",
          "Vietnam",
          "Yemen",
          "Zambia",
          "Zimbabwe"
         ],
         "name": "",
         "type": "choropleth",
         "z": {
          "bdata": "AgECAAICAgIDAgIBAgIBAgMBAgIBAQEDAgMAAQECAQMBAQMCAQEBAgECAgEDAQEDAQEBAgIBAQECAgEAAgIBAQICAQIBAQEAAgEBAgIDAwIBAwICAgICAwIBAgIBAgIBAQEBAgIBAQIBAQEBAgECAQEDAgMBAgEAAQICAQICAQICAgEBAQECAwMCAgICAwMBAQEBAQEBAwECAQECAgMBAQIBAwEBAQIDAQIDAQEBAQECAAECAwIDAQMCAQEBAQECAQ==",
          "dtype": "i1"
         }
        }
       ],
       "layout": {
        "coloraxis": {
         "colorbar": {
          "len": 0.7,
          "ticktext": [
           "None",
           "Low",
           "Medium",
           "High"
          ],
          "tickvals": [
           0,
           1,
           2,
           3
          ],
          "title": {
           "text": "Cybersecurity Priority"
          }
         },
         "colorscale": [
          [
           0,
           "#D3D3D3"
          ],
          [
           0.33,
           "#FFD700"
          ],
          [
           0.66,
           "#FF8C00"
          ],
          [
           1,
           "#8B0000"
          ]
         ]
        },
        "geo": {
         "center": {},
         "domain": {
          "x": [
           0.0,
           1.0
          ],
          "y": [
           0.0,
           1.0
          ]
         },
         "projection": {
          "type": "natural earth"
         },
         "showcoastlines": true,
         "showframe": false
        },
        "height": 700,
        "legend": {
         "tracegroupgap": 0
        },
        "template": {
         "data": {
          "bar": [
           {
            "error_x": {
             "color": "#2a3f5f"
            },
            "error_y": {
             "color": "#2a3f5f"
            },
            "marker": {
             "line": {
              "color": "#E5ECF6",
              "width": 0.5
             },
             "pattern": {
              "fillmode": "overlay",
              "size": 10,
              "solidity": 0.2
             }
            },
            "type": "bar"
           }
          ],
          "barpolar": [
           {
            "marker": {
             "line": {
              "color": "#E5ECF6",
              "width": 0.5
             },
             "pattern": {
              "fillmode": "overlay",
              "size": 10,
              "solidity": 0.2
             }
            },
            "type": "barpolar"
           }
          ],
          "carpet": [
           {
            "aaxis": {
             "endlinecolor": "#2a3f5f",
             "gridcolor": "white",
             "linecolor": "white",
             "minorgridcolor": "white",
             "startlinecolor": "#2a3f5f"
            },
            "baxis": {
             "endlinecolor": "#2a3f5f",
             "gridcolor": "white",
             "linecolor": "white",
             "minorgridcolor": "white",
             "startlinecolor": "#2a3f5f"
            },
            "type": "carpet"
           }
          ],
          "choropleth": [
           {
            "colorbar": {
             "outlinewidth": 0,
             "ticks": ""
            },
            "type": "choropleth"
           }
          ],
          "contour": [
           {
            "colorbar": {
             "outlinewidth": 0,
             "ticks": ""
            },
            "colorscale": [
             [
              0.0,
              "#0d0887"
             ],
             [
              0.1111111111111111,
              "#46039f"
             ],
             [
              0.2222222222222222,
              "#7201a8"
             ],
             [
              0.3333333333333333,
              "#9c179e"
             ],
             [
              0.4444444444444444,
              "#bd3786"
             ],
             [
              0.5555555555555556,
              "#d8576b"
             ],
             [
              0.6666666666666666,
              "#ed7953"
             ],
             [
              0.7777777777777778,
              "#fb9f3a"
             ],
             [
              0.8888888888888888,
              "#fdca26"
             ],
             [
              1.0,
              "#f0f921"
             ]
            ],
            "type": "contour"
           }
          ],
          "contourcarpet": [
           {
            "colorbar": {
             "outlinewidth": 0,
             "ticks": ""
            },
            "type": "contourcarpet"
           }
          ],
          "heatmap": [
           {
            "colorbar": {
             "outlinewidth": 0,
             "ticks": ""
            },
            "colorscale": [
             [
              0.0,
              "#0d0887"
             ],
             [
              0.1111111111111111,
              "#46039f"
             ],
             [
              0.2222222222222222,
              "#7201a8"
             ],
             [
              0.3333333333333333,
              "#9c179e"
             ],
             [
              0.4444444444444444,
              "#bd3786"
             ],
             [
              0.5555555555555556,
              "#d8576b"
             ],
             [
              0.6666666666666666,
              "#ed7953"
             ],
             [
              0.7777777777777778,
              "#fb9f3a"
             ],
             [
              0.8888888888888888,
              "#fdca26"
             ],
             [
              1.0,
              "#f0f921"
             ]
            ],
            "type": "heatmap"
           }
          ],
          "histogram": [
           {
            "marker": {
             "pattern": {
              "fillmode": "overlay",
              "size": 10,
              "solidity": 0.2
             }
            },
            "type": "histogram"
           }
          ],
          "histogram2d": [
           {
            "colorbar": {
             "outlinewidth": 0,
             "ticks": ""
            },
            "colorscale": [
             [
              0.0,
              "#0d0887"
             ],
             [
              0.1111111111111111,
              "#46039f"
             ],
             [
              0.2222222222222222,
              "#7201a8"
             ],
             [
              0.3333333333333333,
              "#9c179e"
             ],
             [
              0.4444444444444444,
              "#bd3786"
             ],
             [
              0.5555555555555556,
              "#d8576b"
             ],
             [
              0.6666666666666666,
              "#ed7953"
             ],
             [
              0.7777777777777778,
              "#fb9f3a"
             ],
             [
              0.8888888888888888,
              "#fdca26"
             ],
             [
              1.0,
              "#f0f921"
             ]
            ],
            "type": "histogram2d"
           }
          ],
          "histogram2dcontour": [
           {
            "colorbar": {
             "outlinewidth": 0,
             "ticks": ""
            },
            "colorscale": [
             [
              0.0,
              "#0d0887"
             ],
             [
              0.1111111111111111,
              "#46039f"
             ],
             [
              0.2222222222222222,
              "#7201a8"
             ],
             [
              0.3333333333333333,
              "#9c179e"
             ],
             [
              0.4444444444444444,
              "#bd3786"
             ],
             [
              0.5555555555555556,
              "#d8576b"
             ],
             [
              0.6666666666666666,
              "#ed7953"
             ],
             [
              0.7777777777777778,
              "#fb9f3a"
             ],
             [
              0.8888888888888888,
              "#fdca26"
             ],
             [
              1.0,
              "#f0f921"
             ]
            ],
            "type": "histogram2dcontour"
           }
          ],
          "mesh3d": [
           {
            "colorbar": {
             "outlinewidth": 0,
             "ticks": ""
            },
            "type": "mesh3d"
           }
          ],
          "parcoords": [
           {
            "line": {
             "colorbar": {
              "outlinewidth": 0,
              "ticks": ""
             }
            },
            "type": "parcoords"
           }
          ],
          "pie": [
           {
            "automargin": true,
            "type": "pie"
           }
          ],
          "scatter": [
           {
            "fillpattern": {
             "fillmode": "overlay",
             "size": 10,
             "solidity": 0.2
            },
            "type": "scatter"
           }
          ],
          "scatter3d": [
           {
            "line": {
             "colorbar": {
              "outlinewidth": 0,
              "ticks": ""
             }
            },
            "marker": {
             "colorbar": {
              "outlinewidth": 0,
              "ticks": ""
             }
            },
            "type": "scatter3d"
           }
          ],
          "scattercarpet": [
           {
            "marker": {
             "colorbar": {
              "outlinewidth": 0,
              "ticks": ""
             }
            },
            "type": "scattercarpet"
           }
          ],
          "scattergeo": [
           {
            "marker": {
             "colorbar": {
              "outlinewidth": 0,
              "ticks": ""
             }
            },
            "type": "scattergeo"
           }
          ],
          "scattergl": [
           {
            "marker": {
             "colorbar": {
              "outlinewidth": 0,
              "ticks": ""
             }
            },
            "type": "scattergl"
           }
          ],
          "scattermap": [
           {
            "marker": {
             "colorbar": {
              "outlinewidth": 0,
              "ticks": ""
             }
            },
            "type": "scattermap"
           }
          ],
          "scattermapbox": [
           {
            "marker": {
             "colorbar": {
              "outlinewidth": 0,
              "ticks": ""
             }
            },
            "type": "scattermapbox"
           }
          ],
          "scatterpolar": [
           {
            "marker": {
             "colorbar": {
              "outlinewidth": 0,
              "ticks": ""
             }
            },
            "type": "scatterpolar"
           }
          ],
          "scatterpolargl": [
           {
            "marker": {
             "colorbar": {
              "outlinewidth": 0,
              "ticks": ""
             }
            },
            "type": "scatterpolargl"
           }
          ],
          "scatterternary": [
           {
            "marker": {
             "colorbar": {
              "outlinewidth": 0,
              "ticks": ""
             }
            },
            "type": "scatterternary"
           }
          ],
          "surface": [
           {
            "colorbar": {
             "outlinewidth": 0,
             "ticks": ""
            },
            "colorscale": [
             [
              0.0,
              "#0d0887"
             ],
             [
              0.1111111111111111,
              "#46039f"
             ],
             [
              0.2222222222222222,
              "#7201a8"
             ],
             [
              0.3333333333333333,
              "#9c179e"
             ],
             [
              0.4444444444444444,
              "#bd3786"
             ],
             [
              0.5555555555555556,
              "#d8576b"
             ],
             [
              0.6666666666666666,
              "#ed7953"
             ],
             [
              0.7777777777777778,
              "#fb9f3a"
             ],
             [
              0.8888888888888888,
              "#fdca26"
             ],
             [
              1.0,
              "#f0f921"
             ]
            ],
            "type": "surface"
           }
          ],
          "table": [
           {
            "cells": {
             "fill": {
              "color": "#EBF0F8"
             },
             "line": {
              "color": "white"
             }
            },
            "header": {
             "fill": {
              "color": "#C8D4E3"
             },
             "line": {
              "color": "white"
             }
            },
            "type": "table"
           }
          ]
         },
         "layout": {
          "annotationdefaults": {
           "arrowcolor": "#2a3f5f",
           "arrowhead": 0,
           "arrowwidth": 1
          },
          "autotypenumbers": "strict",
          "coloraxis": {
           "colorbar": {
            "outlinewidth": 0,
            "ticks": ""
           }
          },
          "colorscale": {
           "diverging": [
            [
             0,
             "#8e0152"
            ],
            [
             0.1,
             "#c51b7d"
            ],
            [
             0.2,
             "#de77ae"
            ],
            [
             0.3,
             "#f1b6da"
            ],
            [
             0.4,
             "#fde0ef"
            ],
            [
             0.5,
             "#f7f7f7"
            ],
            [
             0.6,
             "#e6f5d0"
            ],
            [
             0.7,
             "#b8e186"
            ],
            [
             0.8,
             "#7fbc41"
            ],
            [
             0.9,
             "#4d9221"
            ],
            [
             1,
             "#276419"
            ]
           ],
           "sequential": [
            [
             0.0,
             "#0d0887"
            ],
            [
             0.1111111111111111,
             "#46039f"
            ],
            [
             0.2222222222222222,
             "#7201a8"
            ],
            [
             0.3333333333333333,
             "#9c179e"
            ],
            [
             0.4444444444444444,
             "#bd3786"
            ],
            [
             0.5555555555555556,
             "#d8576b"
            ],
            [
             0.6666666666666666,
             "#ed7953"
            ],
            [
             0.7777777777777778,
             "#fb9f3a"
            ],
            [
             0.8888888888888888,
             "#fdca26"
            ],
            [
             1.0,
             "#f0f921"
            ]
           ],
           "sequentialminus": [
            [
             0.0,
             "#0d0887"
            ],
            [
             0.1111111111111111,
             "#46039f"
            ],
            [
             0.2222222222222222,
             "#7201a8"
            ],
            [
             0.3333333333333333,
             "#9c179e"
            ],
            [
             0.4444444444444444,
             "#bd3786"
            ],
            [
             0.5555555555555556,
             "#d8576b"
            ],
            [
             0.6666666666666666,
             "#ed7953"
            ],
            [
             0.7777777777777778,
             "#fb9f3a"
            ],
            [
             0.8888888888888888,
             "#fdca26"
            ],
            [
             1.0,
             "#f0f921"
            ]
           ]
          },
          "colorway": [
           "#636efa",
           "#EF553B",
           "#00cc96",
           "#ab63fa",
           "#FFA15A",
           "#19d3f3",
           "#FF6692",
           "#B6E880",
           "#FF97FF",
           "#FECB52"
          ],
          "font": {
           "color": "#2a3f5f"
          },
          "geo": {
           "bgcolor": "white",
           "lakecolor": "white",
           "landcolor": "#E5ECF6",
           "showlakes": true,
           "showland": true,
           "subunitcolor": "white"
          },
          "hoverlabel": {
           "align": "left"
          },
          "hovermode": "closest",
          "mapbox": {
           "style": "light"
          },
          "paper_bgcolor": "white",
          "plot_bgcolor": "#E5ECF6",
          "polar": {
           "angularaxis": {
            "gridcolor": "white",
            "linecolor": "white",
            "ticks": ""
           },
           "bgcolor": "#E5ECF6",
           "radialaxis": {
            "gridcolor": "white",
            "linecolor": "white",
            "ticks": ""
           }
          },
          "scene": {
           "xaxis": {
            "backgroundcolor": "#E5ECF6",
            "gridcolor": "white",
            "gridwidth": 2,
            "linecolor": "white",
            "showbackground": true,
            "ticks": "",
            "zerolinecolor": "white"
           },
           "yaxis": {
            "backgroundcolor": "#E5ECF6",
            "gridcolor": "white",
            "gridwidth": 2,
            "linecolor": "white",
            "showbackground": true,
            "ticks": "",
            "zerolinecolor": "white"
           },
           "zaxis": {
            "backgroundcolor": "#E5ECF6",
            "gridcolor": "white",
            "gridwidth": 2,
            "linecolor": "white",
            "showbackground": true,
            "ticks": "",
            "zerolinecolor": "white"
           }
          },
          "shapedefaults": {
           "line": {
            "color": "#2a3f5f"
           }
          },
          "ternary": {
           "aaxis": {
            "gridcolor": "white",
            "linecolor": "white",
            "ticks": ""
           },
           "baxis": {
            "gridcolor": "white",
            "linecolor": "white",
            "ticks": ""
           },
           "bgcolor": "#E5ECF6",
           "caxis": {
            "gridcolor": "white",
            "linecolor": "white",
            "ticks": ""
           }
          },
          "title": {
           "x": 0.05
          },
          "xaxis": {
           "automargin": true,
           "gridcolor": "white",
           "linecolor": "white",
           "ticks": "",
           "title": {
            "standoff": 15
           },
           "zerolinecolor": "white",
           "zerolinewidth": 2
          },
          "yaxis": {
           "automargin": true,
           "gridcolor": "white",
           "linecolor": "white",
           "ticks": "",
           "title": {
            "standoff": 15
           },
           "zerolinecolor": "white",
           "zerolinewidth": 2
          }
         }
        },
        "title": {
         "font": {
          "size": 20
         },
         "text": "<b>Energy Ministry Cybersecurity Prioritization by Country</b><br><sub>Based on assessment of 193 countries' energy ministries</sub>",
         "x": 0.5
        },
        "width": 1200
       }
      },
      "text/html": [
       "<div>            <script src=\"https://cdnjs.cloudflare.com/ajax/libs/mathjax/2.7.5/MathJax.js?config=TeX-AMS-MML_SVG\"></script><script type=\"text/javascript\">if (window.MathJax && window.MathJax.Hub && window.MathJax.Hub.Config) {window.MathJax.Hub.Config({SVG: {font: \"STIX-Web\"}});}</script>                <script type=\"text/javascript\">window.PlotlyConfig = {MathJaxConfig: 'local'};</script>\n",
       "        <script charset=\"utf-8\" src=\"https://cdn.plot.ly/plotly-3.1.0.min.js\" integrity=\"sha256-Ei4740bWZhaUTQuD6q9yQlgVCMPBz6CZWhevDYPv93A=\" crossorigin=\"anonymous\"></script>                <div id=\"8c8bae89-19b8-40dd-9b3a-22fad417724e\" class=\"plotly-graph-div\" style=\"height:700px; width:1200px;\"></div>            <script type=\"text/javascript\">                window.PLOTLYENV=window.PLOTLYENV || {};                                if (document.getElementById(\"8c8bae89-19b8-40dd-9b3a-22fad417724e\")) {                    Plotly.newPlot(                        \"8c8bae89-19b8-40dd-9b3a-22fad417724e\",                        [{\"coloraxis\":\"coloraxis\",\"customdata\":[[\"Afghanistan\",\"medium\",\"medium\"],[\"Albania\",\"low\",\"medium\"],[\"Algeria\",\"medium\",\"medium\"],[\"Andorra\",\"none\",\"medium\"],[\"Angola\",\"medium\",\"high\"],[\"Antigua and Barbuda\",\"medium\",\"high\"],[\"Argentina\",\"medium\",\"high\"],[\"Armenia\",\"medium\",\"high\"],[\"Australia\",\"high\",\"high\"],[\"Austria\",\"medium\",\"high\"],[\"Azerbaijan\",\"medium\",\"medium\"],[\"Bahamas (The)\",\"low\",\"medium\"],[\"Bahrain\",\"medium\",\"high\"],[\"Bangladesh\",\"medium\",\"medium\"],[\"Barbados\",\"low\",\"medium\"],[\"Belarus\",\"medium\",\"medium\"],[\"Belgium\",\"high\",\"high\"],[\"Belize\",\"low\",\"high\"],[\"Benin\",\"medium\",\"medium\"],[\"Bhutan\",\"medium\",\"high\"],[\"Bolivia (Plurinational State of)\",\"low\",\"medium\"],[\"Bosnia and Herzegovina\",\"low\",\"high\"],[\"Botswana\",\"low\",\"high\"],[\"Brazil\",\"high\",\"high\"],[\"Brunei Darussalam\",\"medium\",\"medium\"],[\"Bulgaria\",\"high\",\"high\"],[\"Burkina Faso\",\"none\",\"medium\"],[\"Burundi\",\"low\",\"high\"],[\"Cabo Verde\",\"low\",\"medium\"],[\"Cambodia\",\"medium\",\"high\"],[\"Cameroon\",\"low\",\"high\"],[\"Canada\",\"high\",\"high\"],[\"Central African Republic\",\"low\",\"high\"],[\"Chad\",\"low\",\"medium\"],[\"Chile\",\"high\",\"high\"],[\"China\",\"medium\",\"medium\"],[\"Colombia\",\"low\",\"high\"],[\"Comoros\",\"low\",\"high\"],[\"Congo\",\"low\",\"medium\"],[\"Costa Rica\",\"medium\",\"high\"],[\"C\\u00f4te d\\u2019Ivoire\",\"low\",\"high\"],[\"Croatia\",\"medium\",\"high\"],[\"Cuba\",\"medium\",\"medium\"],[\"Cyprus\",\"low\",\"medium\"],[\"Czechia\",\"high\",\"high\"],[\"Democratic People's Republic of Korea\",\"low\",\"medium\"],[\"Democratic Republic of the Congo\",\"low\",\"medium\"],[\"Denmark\",\"high\",\"high\"],[\"Djibouti\",\"low\",\"medium\"],[\"Dominica\",\"low\",\"medium\"],[\"Dominican Republic\",\"low\",\"high\"],[\"Ecuador\",\"medium\",\"medium\"],[\"Egypt\",\"medium\",\"high\"],[\"El Salvador\",\"low\",\"medium\"],[\"Equatorial Guinea\",\"low\",\"high\"],[\"Eritrea\",\"low\",\"medium\"],[\"Estonia\",\"medium\",\"high\"],[\"Eswatini\",\"medium\",\"high\"],[\"Ethiopia\",\"low\",\"high\"],[\"Fiji\",\"none\",\"high\"],[\"Finland\",\"medium\",\"high\"],[\"France\",\"medium\",\"high\"],[\"Gabon\",\"low\",\"medium\"],[\"Gambia (Republic of The)\",\"low\",\"medium\"],[\"Georgia\",\"medium\",\"medium\"],[\"Germany\",\"medium\",\"high\"],[\"Ghana\",\"low\",\"medium\"],[\"Greece\",\"medium\",\"high\"],[\"Grenada\",\"low\",\"high\"],[\"Guatemala\",\"low\",\"high\"],[\"Guinea\",\"low\",\"low\"],[\"Guinea-Bissau\",\"none\",\"high\"],[\"Guyana\",\"medium\",\"medium\"],[\"Haiti\",\"low\",\"medium\"],[\"Honduras\",\"low\",\"medium\"],[\"Hungary\",\"medium\",\"medium\"],[\"Iceland\",\"medium\",\"medium\"],[\"India\",\"high\",\"high\"],[\"Indonesia\",\"high\",\"high\"],[\"Iran (Islamic Republic of)\",\"medium\",\"high\"],[\"Iraq\",\"low\",\"high\"],[\"Ireland\",\"high\",\"high\"],[\"Israel\",\"medium\",\"high\"],[\"Italy\",\"medium\",\"high\"],[\"Jamaica\",\"medium\",\"high\"],[\"Japan\",\"medium\",\"high\"],[\"Jordan\",\"medium\",\"high\"],[\"Kazakhstan\",\"high\",\"high\"],[\"Kenya\",\"medium\",\"high\"],[\"Kiribati\",\"low\",\"high\"],[\"Kuwait\",\"medium\",\"high\"],[\"Kyrgyzstan\",\"medium\",\"high\"],[\"Lao People's Democratic Republic\",\"low\",\"medium\"],[\"Latvia\",\"medium\",\"high\"],[\"Lebanon\",\"medium\",\"medium\"],[\"Lesotho\",\"low\",\"medium\"],[\"Liberia\",\"low\",\"high\"],[\"Libya\",\"low\",\"medium\"],[\"Liechtenstein\",\"low\",\"high\"],[\"Lithuania\",\"medium\",\"high\"],[\"Luxembourg\",\"medium\",\"medium\"],[\"Madagascar\",\"low\",\"medium\"],[\"Malawi\",\"low\",\"high\"],[\"Malaysia\",\"medium\",\"high\"],[\"Maldives\",\"low\",\"high\"],[\"Mali\",\"low\",\"medium\"],[\"Malta\",\"low\",\"high\"],[\"Marshall Islands\",\"low\",\"medium\"],[\"Mauritania\",\"medium\",\"medium\"],[\"Mauritius\",\"low\",\"high\"],[\"Mexico\",\"medium\",\"medium\"],[\"Micronesia (Federated States of)\",\"low\",\"low\"],[\"Monaco\",\"low\",\"high\"],[\"Mongolia\",\"high\",\"high\"],[\"Montenegro\",\"medium\",\"medium\"],[\"Morocco\",\"high\",\"medium\"],[\"Mozambique\",\"low\",\"high\"],[\"Myanmar\",\"medium\",\"high\"],[\"Namibia\",\"low\",\"high\"],[\"Nauru\",\"none\",\"high\"],[\"Nepal\",\"low\",\"high\"],[\"Netherlands (Kingdom of the)\",\"medium\",\"high\"],[\"New Zealand\",\"medium\",\"high\"],[\"Nicaragua\",\"low\",\"medium\"],[\"Niger\",\"medium\",\"medium\"],[\"Nigeria\",\"medium\",\"high\"],[\"North Macedonia\",\"low\",\"medium\"],[\"Norway\",\"medium\",\"high\"],[\"Oman\",\"medium\",\"medium\"],[\"Pakistan\",\"medium\",\"high\"],[\"Palau\",\"low\",\"medium\"],[\"Panama\",\"low\",\"high\"],[\"Papua New Guinea\",\"low\",\"low\"],[\"Paraguay\",\"low\",\"high\"],[\"Peru\",\"medium\",\"medium\"],[\"Philippines\",\"high\",\"high\"],[\"Poland\",\"high\",\"high\"],[\"Portugal\",\"medium\",\"high\"],[\"Qatar\",\"medium\",\"high\"],[\"Republic of Korea\",\"medium\",\"high\"],[\"Republic of Moldova\",\"medium\",\"high\"],[\"Romania\",\"high\",\"high\"],[\"Russian Federation\",\"high\",\"high\"],[\"Rwanda\",\"low\",\"high\"],[\"Saint Kitts and Nevis\",\"low\",\"high\"],[\"Saint Lucia\",\"low\",\"high\"],[\"Saint Vincent and the Grenadines\",\"low\",\"medium\"],[\"Samoa\",\"low\",\"medium\"],[\"San Marino\",\"low\",\"medium\"],[\"Sao Tome and Principe\",\"low\",\"medium\"],[\"Saudi Arabia\",\"high\",\"high\"],[\"Senegal\",\"low\",\"high\"],[\"Serbia\",\"medium\",\"high\"],[\"Seychelles\",\"low\",\"high\"],[\"Sierra Leone\",\"low\",\"high\"],[\"Singapore\",\"medium\",\"high\"],[\"Slovakia\",\"medium\",\"high\"],[\"Slovenia\",\"high\",\"high\"],[\"Solomon Islands\",\"low\",\"medium\"],[\"Somalia\",\"low\",\"high\"],[\"South Africa\",\"medium\",\"medium\"],[\"South Sudan\",\"low\",\"high\"],[\"Spain\",\"high\",\"high\"],[\"Sri Lanka\",\"low\",\"medium\"],[\"Sudan\",\"low\",\"medium\"],[\"Suriname\",\"low\",\"medium\"],[\"Sweden\",\"medium\",\"high\"],[\"Switzerland\",\"high\",\"high\"],[\"Syrian Arab Republic\",\"low\",\"medium\"],[\"Tajikistan\",\"medium\",\"medium\"],[\"Thailand\",\"high\",\"high\"],[\"Timor-Leste\",\"low\",\"medium\"],[\"Togo\",\"low\",\"high\"],[\"Tonga\",\"low\",\"high\"],[\"Trinidad and Tobago\",\"low\",\"high\"],[\"Tunisia\",\"low\",\"high\"],[\"Turkey\",\"medium\",\"high\"],[\"Turkmenistan\",\"none\",\"high\"],[\"Tuvalu\",\"low\",\"high\"],[\"Uganda\",\"medium\",\"high\"],[\"Ukraine\",\"high\",\"high\"],[\"United Arab Emirates\",\"medium\",\"high\"],[\"United Kingdom\",\"high\",\"high\"],[\"United Republic of Tanzania\",\"low\",\"high\"],[\"United States of America\",\"high\",\"high\"],[\"Uruguay\",\"medium\",\"high\"],[\"Uzbekistan\",\"low\",\"medium\"],[\"Vanuatu\",\"low\",\"high\"],[\"Venezuela, Bolivarian Republic of\",\"low\",\"medium\"],[\"Vietnam\",\"low\",\"high\"],[\"Yemen\",\"low\",\"medium\"],[\"Zambia\",\"medium\",\"medium\"],[\"Zimbabwe\",\"low\",\"medium\"]],\"geo\":\"geo\",\"hovertemplate\":\"\\u003cb\\u003e%{customdata[0]}\\u003c\\u002fb\\u003e\\u003cbr\\u003eCybersecurity Priority: %{customdata[1]}\\u003cbr\\u003eAssessment Confidence: %{customdata[2]}\\u003cbr\\u003e\\u003cextra\\u003e\\u003c\\u002fextra\\u003e\",\"locationmode\":\"country names\",\"locations\":[\"Afghanistan\",\"Albania\",\"Algeria\",\"Andorra\",\"Angola\",\"Antigua and Barbuda\",\"Argentina\",\"Armenia\",\"Australia\",\"Austria\",\"Azerbaijan\",\"Bahamas (The)\",\"Bahrain\",\"Bangladesh\",\"Barbados\",\"Belarus\",\"Belgium\",\"Belize\",\"Benin\",\"Bhutan\",\"Bolivia (Plurinational State of)\",\"Bosnia and Herzegovina\",\"Botswana\",\"Brazil\",\"Brunei Darussalam\",\"Bulgaria\",\"Burkina Faso\",\"Burundi\",\"Cabo Verde\",\"Cambodia\",\"Cameroon\",\"Canada\",\"Central African Republic\",\"Chad\",\"Chile\",\"China\",\"Colombia\",\"Comoros\",\"Republic of the Congo\",\"Costa Rica\",\"C\\u00f4te d\\u2019Ivoire\",\"Croatia\",\"Cuba\",\"Cyprus\",\"Czechia\",\"Democratic People's Republic of Korea\",\"Democratic Republic of the Congo\",\"Denmark\",\"Djibouti\",\"Dominica\",\"Dominican Republic\",\"Ecuador\",\"Egypt\",\"El Salvador\",\"Equatorial Guinea\",\"Eritrea\",\"Estonia\",\"Eswatini\",\"Ethiopia\",\"Fiji\",\"Finland\",\"France\",\"Gabon\",\"Gambia (Republic of The)\",\"Georgia\",\"Germany\",\"Ghana\",\"Greece\",\"Grenada\",\"Guatemala\",\"Guinea\",\"Guinea-Bissau\",\"Guyana\",\"Haiti\",\"Honduras\",\"Hungary\",\"Iceland\",\"India\",\"Indonesia\",\"Iran (Islamic Republic of)\",\"Iraq\",\"Ireland\",\"Israel\",\"Italy\",\"Jamaica\",\"Japan\",\"Jordan\",\"Kazakhstan\",\"Kenya\",\"Kiribati\",\"Kuwait\",\"Kyrgyzstan\",\"Laos\",\"Latvia\",\"Lebanon\",\"Lesotho\",\"Liberia\",\"Libya\",\"Liechtenstein\",\"Lithuania\",\"Luxembourg\",\"Madagascar\",\"Malawi\",\"Malaysia\",\"Maldives\",\"Mali\",\"Malta\",\"Marshall Islands\",\"Mauritania\",\"Mauritius\",\"Mexico\",\"Micronesia (Federated States of)\",\"Monaco\",\"Mongolia\",\"Montenegro\",\"Morocco\",\"Mozambique\",\"Myanmar\",\"Namibia\",\"Nauru\",\"Nepal\",\"Netherlands (Kingdom of the)\",\"New Zealand\",\"Nicaragua\",\"Niger\",\"Nigeria\",\"North Macedonia\",\"Norway\",\"Oman\",\"Pakistan\",\"Palau\",\"Panama\",\"Papua New Guinea\",\"Paraguay\",\"Peru\",\"Philippines\",\"Poland\",\"Portugal\",\"Qatar\",\"Republic of Korea\",\"Republic of Moldova\",\"Romania\",\"Russia\",\"Rwanda\",\"Saint Kitts and Nevis\",\"Saint Lucia\",\"Saint Vincent and the Grenadines\",\"Samoa\",\"San Marino\",\"Sao Tome and Principe\",\"Saudi Arabia\",\"Senegal\",\"Serbia\",\"Seychelles\",\"Sierra Leone\",\"Singapore\",\"Slovakia\",\"Slovenia\",\"Solomon Islands\",\"Somalia\",\"South Africa\",\"South Sudan\",\"Spain\",\"Sri Lanka\",\"Sudan\",\"Suriname\",\"Sweden\",\"Switzerland\",\"Syrian Arab Republic\",\"Tajikistan\",\"Thailand\",\"Timor-Leste\",\"Togo\",\"Tonga\",\"Trinidad and Tobago\",\"Tunisia\",\"Turkey\",\"Turkmenistan\",\"Tuvalu\",\"Uganda\",\"Ukraine\",\"United Arab Emirates\",\"United Kingdom\",\"United Republic of Tanzania\",\"United States\",\"Uruguay\",\"Uzbekistan\",\"Vanuatu\",\"Venezuela\",\"Vietnam\",\"Yemen\",\"Zambia\",\"Zimbabwe\"],\"name\":\"\",\"z\":{\"dtype\":\"i1\",\"bdata\":\"AgECAAICAgIDAgIBAgIBAgMBAgIBAQEDAgMAAQECAQMBAQMCAQEBAgECAgEDAQEDAQEBAgIBAQECAgEAAgIBAQICAQIBAQEAAgEBAgIDAwIBAwICAgICAwIBAgIBAgIBAQEBAgIBAQIBAQEBAgECAQEDAgMBAgEAAQICAQICAQICAgEBAQECAwMCAgICAwMBAQEBAQEBAwECAQECAgMBAQIBAwEBAQIDAQIDAQEBAQECAAECAwIDAQMCAQEBAQECAQ==\"},\"type\":\"choropleth\"}],                        {\"template\":{\"data\":{\"histogram2dcontour\":[{\"type\":\"histogram2dcontour\",\"colorbar\":{\"outlinewidth\":0,\"ticks\":\"\"},\"colorscale\":[[0.0,\"#0d0887\"],[0.1111111111111111,\"#46039f\"],[0.2222222222222222,\"#7201a8\"],[0.3333333333333333,\"#9c179e\"],[0.4444444444444444,\"#bd3786\"],[0.5555555555555556,\"#d8576b\"],[0.6666666666666666,\"#ed7953\"],[0.7777777777777778,\"#fb9f3a\"],[0.8888888888888888,\"#fdca26\"],[1.0,\"#f0f921\"]]}],\"choropleth\":[{\"type\":\"choropleth\",\"colorbar\":{\"outlinewidth\":0,\"ticks\":\"\"}}],\"histogram2d\":[{\"type\":\"histogram2d\",\"colorbar\":{\"outlinewidth\":0,\"ticks\":\"\"},\"colorscale\":[[0.0,\"#0d0887\"],[0.1111111111111111,\"#46039f\"],[0.2222222222222222,\"#7201a8\"],[0.3333333333333333,\"#9c179e\"],[0.4444444444444444,\"#bd3786\"],[0.5555555555555556,\"#d8576b\"],[0.6666666666666666,\"#ed7953\"],[0.7777777777777778,\"#fb9f3a\"],[0.8888888888888888,\"#fdca26\"],[1.0,\"#f0f921\"]]}],\"heatmap\":[{\"type\":\"heatmap\",\"colorbar\":{\"outlinewidth\":0,\"ticks\":\"\"},\"colorscale\":[[0.0,\"#0d0887\"],[0.1111111111111111,\"#46039f\"],[0.2222222222222222,\"#7201a8\"],[0.3333333333333333,\"#9c179e\"],[0.4444444444444444,\"#bd3786\"],[0.5555555555555556,\"#d8576b\"],[0.6666666666666666,\"#ed7953\"],[0.7777777777777778,\"#fb9f3a\"],[0.8888888888888888,\"#fdca26\"],[1.0,\"#f0f921\"]]}],\"contourcarpet\":[{\"type\":\"contourcarpet\",\"colorbar\":{\"outlinewidth\":0,\"ticks\":\"\"}}],\"contour\":[{\"type\":\"contour\",\"colorbar\":{\"outlinewidth\":0,\"ticks\":\"\"},\"colorscale\":[[0.0,\"#0d0887\"],[0.1111111111111111,\"#46039f\"],[0.2222222222222222,\"#7201a8\"],[0.3333333333333333,\"#9c179e\"],[0.4444444444444444,\"#bd3786\"],[0.5555555555555556,\"#d8576b\"],[0.6666666666666666,\"#ed7953\"],[0.7777777777777778,\"#fb9f3a\"],[0.8888888888888888,\"#fdca26\"],[1.0,\"#f0f921\"]]}],\"surface\":[{\"type\":\"surface\",\"colorbar\":{\"outlinewidth\":0,\"ticks\":\"\"},\"colorscale\":[[0.0,\"#0d0887\"],[0.1111111111111111,\"#46039f\"],[0.2222222222222222,\"#7201a8\"],[0.3333333333333333,\"#9c179e\"],[0.4444444444444444,\"#bd3786\"],[0.5555555555555556,\"#d8576b\"],[0.6666666666666666,\"#ed7953\"],[0.7777777777777778,\"#fb9f3a\"],[0.8888888888888888,\"#fdca26\"],[1.0,\"#f0f921\"]]}],\"mesh3d\":[{\"type\":\"mesh3d\",\"colorbar\":{\"outlinewidth\":0,\"ticks\":\"\"}}],\"scatter\":[{\"fillpattern\":{\"fillmode\":\"overlay\",\"size\":10,\"solidity\":0.2},\"type\":\"scatter\"}],\"parcoords\":[{\"type\":\"parcoords\",\"line\":{\"colorbar\":{\"outlinewidth\":0,\"ticks\":\"\"}}}],\"scatterpolargl\":[{\"type\":\"scatterpolargl\",\"marker\":{\"colorbar\":{\"outlinewidth\":0,\"ticks\":\"\"}}}],\"bar\":[{\"error_x\":{\"color\":\"#2a3f5f\"},\"error_y\":{\"color\":\"#2a3f5f\"},\"marker\":{\"line\":{\"color\":\"#E5ECF6\",\"width\":0.5},\"pattern\":{\"fillmode\":\"overlay\",\"size\":10,\"solidity\":0.2}},\"type\":\"bar\"}],\"scattergeo\":[{\"type\":\"scattergeo\",\"marker\":{\"colorbar\":{\"outlinewidth\":0,\"ticks\":\"\"}}}],\"scatterpolar\":[{\"type\":\"scatterpolar\",\"marker\":{\"colorbar\":{\"outlinewidth\":0,\"ticks\":\"\"}}}],\"histogram\":[{\"marker\":{\"pattern\":{\"fillmode\":\"overlay\",\"size\":10,\"solidity\":0.2}},\"type\":\"histogram\"}],\"scattergl\":[{\"type\":\"scattergl\",\"marker\":{\"colorbar\":{\"outlinewidth\":0,\"ticks\":\"\"}}}],\"scatter3d\":[{\"type\":\"scatter3d\",\"line\":{\"colorbar\":{\"outlinewidth\":0,\"ticks\":\"\"}},\"marker\":{\"colorbar\":{\"outlinewidth\":0,\"ticks\":\"\"}}}],\"scattermap\":[{\"type\":\"scattermap\",\"marker\":{\"colorbar\":{\"outlinewidth\":0,\"ticks\":\"\"}}}],\"scattermapbox\":[{\"type\":\"scattermapbox\",\"marker\":{\"colorbar\":{\"outlinewidth\":0,\"ticks\":\"\"}}}],\"scatterternary\":[{\"type\":\"scatterternary\",\"marker\":{\"colorbar\":{\"outlinewidth\":0,\"ticks\":\"\"}}}],\"scattercarpet\":[{\"type\":\"scattercarpet\",\"marker\":{\"colorbar\":{\"outlinewidth\":0,\"ticks\":\"\"}}}],\"carpet\":[{\"aaxis\":{\"endlinecolor\":\"#2a3f5f\",\"gridcolor\":\"white\",\"linecolor\":\"white\",\"minorgridcolor\":\"white\",\"startlinecolor\":\"#2a3f5f\"},\"baxis\":{\"endlinecolor\":\"#2a3f5f\",\"gridcolor\":\"white\",\"linecolor\":\"white\",\"minorgridcolor\":\"white\",\"startlinecolor\":\"#2a3f5f\"},\"type\":\"carpet\"}],\"table\":[{\"cells\":{\"fill\":{\"color\":\"#EBF0F8\"},\"line\":{\"color\":\"white\"}},\"header\":{\"fill\":{\"color\":\"#C8D4E3\"},\"line\":{\"color\":\"white\"}},\"type\":\"table\"}],\"barpolar\":[{\"marker\":{\"line\":{\"color\":\"#E5ECF6\",\"width\":0.5},\"pattern\":{\"fillmode\":\"overlay\",\"size\":10,\"solidity\":0.2}},\"type\":\"barpolar\"}],\"pie\":[{\"automargin\":true,\"type\":\"pie\"}]},\"layout\":{\"autotypenumbers\":\"strict\",\"colorway\":[\"#636efa\",\"#EF553B\",\"#00cc96\",\"#ab63fa\",\"#FFA15A\",\"#19d3f3\",\"#FF6692\",\"#B6E880\",\"#FF97FF\",\"#FECB52\"],\"font\":{\"color\":\"#2a3f5f\"},\"hovermode\":\"closest\",\"hoverlabel\":{\"align\":\"left\"},\"paper_bgcolor\":\"white\",\"plot_bgcolor\":\"#E5ECF6\",\"polar\":{\"bgcolor\":\"#E5ECF6\",\"angularaxis\":{\"gridcolor\":\"white\",\"linecolor\":\"white\",\"ticks\":\"\"},\"radialaxis\":{\"gridcolor\":\"white\",\"linecolor\":\"white\",\"ticks\":\"\"}},\"ternary\":{\"bgcolor\":\"#E5ECF6\",\"aaxis\":{\"gridcolor\":\"white\",\"linecolor\":\"white\",\"ticks\":\"\"},\"baxis\":{\"gridcolor\":\"white\",\"linecolor\":\"white\",\"ticks\":\"\"},\"caxis\":{\"gridcolor\":\"white\",\"linecolor\":\"white\",\"ticks\":\"\"}},\"coloraxis\":{\"colorbar\":{\"outlinewidth\":0,\"ticks\":\"\"}},\"colorscale\":{\"sequential\":[[0.0,\"#0d0887\"],[0.1111111111111111,\"#46039f\"],[0.2222222222222222,\"#7201a8\"],[0.3333333333333333,\"#9c179e\"],[0.4444444444444444,\"#bd3786\"],[0.5555555555555556,\"#d8576b\"],[0.6666666666666666,\"#ed7953\"],[0.7777777777777778,\"#fb9f3a\"],[0.8888888888888888,\"#fdca26\"],[1.0,\"#f0f921\"]],\"sequentialminus\":[[0.0,\"#0d0887\"],[0.1111111111111111,\"#46039f\"],[0.2222222222222222,\"#7201a8\"],[0.3333333333333333,\"#9c179e\"],[0.4444444444444444,\"#bd3786\"],[0.5555555555555556,\"#d8576b\"],[0.6666666666666666,\"#ed7953\"],[0.7777777777777778,\"#fb9f3a\"],[0.8888888888888888,\"#fdca26\"],[1.0,\"#f0f921\"]],\"diverging\":[[0,\"#8e0152\"],[0.1,\"#c51b7d\"],[0.2,\"#de77ae\"],[0.3,\"#f1b6da\"],[0.4,\"#fde0ef\"],[0.5,\"#f7f7f7\"],[0.6,\"#e6f5d0\"],[0.7,\"#b8e186\"],[0.8,\"#7fbc41\"],[0.9,\"#4d9221\"],[1,\"#276419\"]]},\"xaxis\":{\"gridcolor\":\"white\",\"linecolor\":\"white\",\"ticks\":\"\",\"title\":{\"standoff\":15},\"zerolinecolor\":\"white\",\"automargin\":true,\"zerolinewidth\":2},\"yaxis\":{\"gridcolor\":\"white\",\"linecolor\":\"white\",\"ticks\":\"\",\"title\":{\"standoff\":15},\"zerolinecolor\":\"white\",\"automargin\":true,\"zerolinewidth\":2},\"scene\":{\"xaxis\":{\"backgroundcolor\":\"#E5ECF6\",\"gridcolor\":\"white\",\"linecolor\":\"white\",\"showbackground\":true,\"ticks\":\"\",\"zerolinecolor\":\"white\",\"gridwidth\":2},\"yaxis\":{\"backgroundcolor\":\"#E5ECF6\",\"gridcolor\":\"white\",\"linecolor\":\"white\",\"showbackground\":true,\"ticks\":\"\",\"zerolinecolor\":\"white\",\"gridwidth\":2},\"zaxis\":{\"backgroundcolor\":\"#E5ECF6\",\"gridcolor\":\"white\",\"linecolor\":\"white\",\"showbackground\":true,\"ticks\":\"\",\"zerolinecolor\":\"white\",\"gridwidth\":2}},\"shapedefaults\":{\"line\":{\"color\":\"#2a3f5f\"}},\"annotationdefaults\":{\"arrowcolor\":\"#2a3f5f\",\"arrowhead\":0,\"arrowwidth\":1},\"geo\":{\"bgcolor\":\"white\",\"landcolor\":\"#E5ECF6\",\"subunitcolor\":\"white\",\"showland\":true,\"showlakes\":true,\"lakecolor\":\"white\"},\"title\":{\"x\":0.05},\"mapbox\":{\"style\":\"light\"}}},\"geo\":{\"domain\":{\"x\":[0.0,1.0],\"y\":[0.0,1.0]},\"center\":{},\"projection\":{\"type\":\"natural earth\"},\"showframe\":false,\"showcoastlines\":true},\"coloraxis\":{\"colorbar\":{\"title\":{\"text\":\"Cybersecurity Priority\"},\"tickvals\":[0,1,2,3],\"ticktext\":[\"None\",\"Low\",\"Medium\",\"High\"],\"len\":0.7},\"colorscale\":[[0,\"#D3D3D3\"],[0.33,\"#FFD700\"],[0.66,\"#FF8C00\"],[1,\"#8B0000\"]]},\"legend\":{\"tracegroupgap\":0},\"title\":{\"text\":\"\\u003cb\\u003eEnergy Ministry Cybersecurity Prioritization by Country\\u003c\\u002fb\\u003e\\u003cbr\\u003e\\u003csub\\u003eBased on assessment of 193 countries' energy ministries\\u003c\\u002fsub\\u003e\",\"font\":{\"size\":20},\"x\":0.5},\"width\":1200,\"height\":700},                        {\"responsive\": true}                    ).then(function(){\n",
       "                            \n",
       "var gd = document.getElementById('8c8bae89-19b8-40dd-9b3a-22fad417724e');\n",
       "var x = new MutationObserver(function (mutations, observer) {{\n",
       "        var display = window.getComputedStyle(gd).display;\n",
       "        if (!display || display === 'none') {{\n",
       "            console.log([gd, 'removed!']);\n",
       "            Plotly.purge(gd);\n",
       "            observer.disconnect();\n",
       "        }}\n",
       "}});\n",
       "\n",
       "// Listen for the removal of the full notebook cells\n",
       "var notebookContainer = gd.closest('#notebook-container');\n",
       "if (notebookContainer) {{\n",
       "    x.observe(notebookContainer, {childList: true});\n",
       "}}\n",
       "\n",
       "// Listen for the clearing of the current output cell\n",
       "var outputEl = gd.closest('.output');\n",
       "if (outputEl) {{\n",
       "    x.observe(outputEl, {childList: true});\n",
       "}}\n",
       "\n",
       "                        })                };            </script>        </div>"
      ]
     },
     "metadata": {},
     "output_type": "display_data"
    },
    {
     "name": "stdout",
     "output_type": "stream",
     "text": [
      "Interactive world map created successfully!\n"
     ]
    }
   ],
   "source": [
    "# Create the world map using plotly\n",
    "fig = px.choropleth(\n",
    "    df,\n",
    "    locations='country_mapped',\n",
    "    locationmode='country names',\n",
    "    color='relevance_numeric',\n",
    "    hover_data=['country', 'relevance_level', 'confidence'],\n",
    "    color_continuous_scale=[\n",
    "        [0, '#D3D3D3'],    # None - Light Gray\n",
    "        [0.33, '#FFD700'], # Low - Gold\n",
    "        [0.66, '#FF8C00'], # Medium - Orange\n",
    "        [1, '#8B0000']     # High - Dark Red\n",
    "    ],\n",
    "    title=\"<b>Energy Ministry Cybersecurity Prioritization by Country</b><br><sub>Based on assessment of 193 countries' energy ministries</sub>\",\n",
    "    labels={'relevance_numeric': 'Cybersecurity Priority Level',\n",
    "            'country_mapped': 'Country'}\n",
    ")\n",
    "\n",
    "# Customize the map layout\n",
    "fig.update_layout(\n",
    "    title_x=0.5,  # Center the title\n",
    "    title_font_size=20,\n",
    "    width=1200,\n",
    "    height=700,\n",
    "    geo=dict(\n",
    "        showframe=False,\n",
    "        showcoastlines=True,\n",
    "        projection_type='natural earth'\n",
    "    )\n",
    ")\n",
    "\n",
    "# Update colorbar\n",
    "fig.update_coloraxes(\n",
    "    colorbar=dict(\n",
    "        title=\"Cybersecurity Priority\",\n",
    "        tickvals=[0, 1, 2, 3],\n",
    "        ticktext=[\"None\", \"Low\", \"Medium\", \"High\"],\n",
    "        len=0.7\n",
    "    )\n",
    ")\n",
    "\n",
    "# Update hover template for better information display\n",
    "fig.update_traces(\n",
    "    hovertemplate=\"<b>%{customdata[0]}</b><br>\" +\n",
    "                  \"Cybersecurity Priority: %{customdata[1]}<br>\" +\n",
    "                  \"Assessment Confidence: %{customdata[2]}<br>\" +\n",
    "                  \"<extra></extra>\",\n",
    "    customdata=df[['country', 'relevance_level', 'confidence']].values\n",
    ")\n",
    "\n",
    "# Display the map\n",
    "fig.show()\n",
    "\n",
    "print(\"Interactive world map created successfully!\")"
   ]
  },
  {
   "cell_type": "code",
   "execution_count": 6,
   "id": "summary_stats",
   "metadata": {
    "execution": {
     "iopub.execute_input": "2025-09-17T21:38:12.993034Z",
     "iopub.status.busy": "2025-09-17T21:38:12.992858Z",
     "iopub.status.idle": "2025-09-17T21:38:13.001233Z",
     "shell.execute_reply": "2025-09-17T21:38:13.000798Z"
    }
   },
   "outputs": [
    {
     "name": "stdout",
     "output_type": "stream",
     "text": [
      "============================================================\n",
      "ENERGY MINISTRY CYBERSECURITY ASSESSMENT SUMMARY\n",
      "============================================================\n",
      "Total countries assessed: 193\n",
      "\n",
      "Cybersecurity Prioritization Breakdown:\n",
      "  🔴 High Priority:    26 countries (13.5%)\n",
      "  🟠 Medium Priority:  72 countries (37.3%)\n",
      "  🟡 Low Priority:     89 countries (46.1%)\n",
      "  ⚪ No Priority:       6 countries (3.1%)\n",
      "\n",
      "Countries with HIGH cybersecurity prioritization:\n",
      "\n",
      "Australia                 Belgium                   Brazil                    \n",
      "Bulgaria                  Canada                    Chile                     \n",
      "Czechia                   Denmark                   India                     \n",
      "Indonesia                 Ireland                   Kazakhstan                \n",
      "Mongolia                  Morocco                   Philippines               \n",
      "Poland                    Romania                   Russian Federation        \n",
      "Saudi Arabia              Slovenia                  Spain                     \n",
      "Switzerland               Thailand                  Ukraine                   \n",
      "United Kingdom            United States of America  \n",
      "\n",
      "Countries with NO cybersecurity prioritization:\n",
      "  • Andorra\n",
      "  • Burkina Faso\n",
      "  • Fiji\n",
      "  • Guinea-Bissau\n",
      "  • Nauru\n",
      "  • Turkmenistan\n",
      "\n",
      "============================================================\n"
     ]
    }
   ],
   "source": [
    "# Display summary statistics\n",
    "print(\"=\" * 60)\n",
    "print(\"ENERGY MINISTRY CYBERSECURITY ASSESSMENT SUMMARY\")\n",
    "print(\"=\" * 60)\n",
    "\n",
    "total_countries = len(df)\n",
    "high_count = len(df[df['relevance_level'] == 'high'])\n",
    "medium_count = len(df[df['relevance_level'] == 'medium'])\n",
    "low_count = len(df[df['relevance_level'] == 'low'])\n",
    "none_count = len(df[df['relevance_level'] == 'none'])\n",
    "\n",
    "print(f\"Total countries assessed: {total_countries}\")\n",
    "print(f\"\\nCybersecurity Prioritization Breakdown:\")\n",
    "print(f\"  🔴 High Priority:   {high_count:3d} countries ({high_count/total_countries*100:.1f}%)\")\n",
    "print(f\"  🟠 Medium Priority: {medium_count:3d} countries ({medium_count/total_countries*100:.1f}%)\")\n",
    "print(f\"  🟡 Low Priority:    {low_count:3d} countries ({low_count/total_countries*100:.1f}%)\")\n",
    "print(f\"  ⚪ No Priority:     {none_count:3d} countries ({none_count/total_countries*100:.1f}%)\")\n",
    "\n",
    "print(f\"\\nCountries with HIGH cybersecurity prioritization:\")\n",
    "high_countries = df[df['relevance_level'] == 'high']['country'].tolist()\n",
    "for i, country in enumerate(sorted(high_countries)):\n",
    "    if i % 3 == 0:\n",
    "        print()\n",
    "    print(f\"{country:25}\", end=\" \")\n",
    "\n",
    "print(f\"\\n\\nCountries with NO cybersecurity prioritization:\")\n",
    "none_countries = df[df['relevance_level'] == 'none']['country'].tolist()\n",
    "for country in sorted(none_countries):\n",
    "    print(f\"  • {country}\")\n",
    "\n",
    "print(\"\\n\" + \"=\" * 60)"
   ]
  },
  {
   "cell_type": "code",
   "execution_count": 7,
   "id": "save_map",
   "metadata": {
    "execution": {
     "iopub.execute_input": "2025-09-17T21:38:13.002730Z",
     "iopub.status.busy": "2025-09-17T21:38:13.002576Z",
     "iopub.status.idle": "2025-09-17T21:38:13.023933Z",
     "shell.execute_reply": "2025-09-17T21:38:13.023405Z"
    }
   },
   "outputs": [
    {
     "name": "stdout",
     "output_type": "stream",
     "text": [
      "Interactive map saved as 'energy_ministry_cybersecurity_world_map.html'\n",
      "Note: Could not save PNG image: \n",
      "Image export using the \"kaleido\" engine requires the Kaleido package,\n",
      "which can be installed using pip:\n",
      "\n",
      "    $ pip install --upgrade kaleido\n",
      "\n",
      "This is normal if kaleido is not installed. The HTML version contains the full interactive map.\n"
     ]
    }
   ],
   "source": [
    "# Save the interactive map as an HTML file\n",
    "output_filename = \"energy_ministry_cybersecurity_world_map.html\"\n",
    "fig.write_html(output_filename)\n",
    "print(f\"Interactive map saved as '{output_filename}'\")\n",
    "\n",
    "# Also save a static image version\n",
    "try:\n",
    "    fig.write_image(\"energy_ministry_cybersecurity_world_map.png\", width=1200, height=700)\n",
    "    print(\"Static PNG image saved as 'energy_ministry_cybersecurity_world_map.png'\")\n",
    "except Exception as e:\n",
    "    print(f\"Note: Could not save PNG image: {e}\")\n",
    "    print(\"This is normal if kaleido is not installed. The HTML version contains the full interactive map.\")"
   ]
  },
  {
   "cell_type": "markdown",
   "id": "conclusion",
   "metadata": {},
   "source": [
    "## Key Findings\n",
    "\n",
    "This world map visualization reveals the global landscape of energy ministry involvement in cybersecurity:\n",
    "\n",
    "### Geographic Patterns:\n",
    "- **High Priority Countries**: Typically developed nations with significant energy infrastructure and cybersecurity awareness\n",
    "- **Medium Priority Countries**: Mix of developing and developed nations with growing cybersecurity programs\n",
    "- **Low Priority Countries**: Often developing nations where cybersecurity may not yet be a primary focus for energy ministries\n",
    "- **No Priority Countries**: Smaller nations or those where energy and cybersecurity responsibilities are completely separate\n",
    "\n",
    "### Insights:\n",
    "1. **Regional Variations**: Clear patterns emerge by geographic region and economic development level\n",
    "2. **Infrastructure Correlation**: Countries with critical energy infrastructure tend to have higher cybersecurity prioritization\n",
    "3. **Policy Development**: The distribution suggests varying levels of national cybersecurity policy maturity\n",
    "\n",
    "### Data Source:\n",
    "Based on automated assessment of 193 countries' energy ministries using the AutoRA research framework, analyzing their role as cybersecurity stakeholders in their respective national contexts."
   ]
  }
 ],
 "metadata": {
  "kernelspec": {
   "display_name": "Python 3",
   "language": "python",
   "name": "python3"
  },
  "language_info": {
   "codemirror_mode": {
    "name": "ipython",
    "version": 3
   },
   "file_extension": ".py",
   "mimetype": "text/x-python",
   "name": "python",
   "nbconvert_exporter": "python",
   "pygments_lexer": "ipython3",
   "version": "3.12.3"
  }
 },
 "nbformat": 4,
 "nbformat_minor": 5
}
